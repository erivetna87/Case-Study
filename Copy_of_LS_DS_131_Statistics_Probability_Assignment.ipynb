{
  "nbformat": 4,
  "nbformat_minor": 0,
  "metadata": {
    "kernelspec": {
      "display_name": "Python 3",
      "language": "python",
      "name": "python3"
    },
    "language_info": {
      "codemirror_mode": {
        "name": "ipython",
        "version": 3
      },
      "file_extension": ".py",
      "mimetype": "text/x-python",
      "name": "python",
      "nbconvert_exporter": "python",
      "pygments_lexer": "ipython3",
      "version": "3.7.3"
    },
    "colab": {
      "name": "Copy of LS_DS_131_Statistics_Probability_Assignment.ipynb",
      "version": "0.3.2",
      "provenance": [],
      "include_colab_link": true
    }
  },
  "cells": [
    {
      "cell_type": "markdown",
      "metadata": {
        "id": "view-in-github",
        "colab_type": "text"
      },
      "source": [
        "<a href=\"https://colab.research.google.com/github/erivetna87/Case-Study/blob/master/Copy_of_LS_DS_131_Statistics_Probability_Assignment.ipynb\" target=\"_parent\"><img src=\"https://colab.research.google.com/assets/colab-badge.svg\" alt=\"Open In Colab\"/></a>"
      ]
    },
    {
      "cell_type": "markdown",
      "metadata": {
        "id": "1lYiEx4rfSjm",
        "colab_type": "text"
      },
      "source": [
        "<img align=\"left\" src=\"https://lever-client-logos.s3.amazonaws.com/864372b1-534c-480e-acd5-9711f850815c-1524247202159.png\" width=200>\n",
        "<br></br>\n",
        "<br></br>\n",
        "\n",
        "## *Data Science Unit 1 Sprint 3 Assignment 1*\n",
        "\n",
        "# Apply the t-test to real data\n",
        "\n",
        "Your assignment is to determine which issues have \"statistically significant\" differences between political parties in this [1980s congressional voting data](https://archive.ics.uci.edu/ml/datasets/Congressional+Voting+Records). The data consists of 435 instances (one for each congressperson), a class (democrat or republican), and 16 binary attributes (yes or no for voting for or against certain issues). Be aware - there are missing values!\n",
        "\n",
        "Your goals:\n",
        "\n",
        "1. Load and clean the data (or determine the best method to drop observations when running tests)\n",
        "2. Using hypothesis testing, find an issue that democrats support more than republicans with p < 0.01\n",
        "3. Using hypothesis testing, find an issue that republicans support more than democrats with p < 0.01\n",
        "4. Using hypothesis testing, find an issue where the difference between republicans and democrats has p > 0.1 (i.e. there may not be much of a difference)\n",
        "\n",
        "Note that this data will involve *2 sample* t-tests, because you're comparing averages across two groups (republicans and democrats) rather than a single group against a null hypothesis.\n",
        "\n",
        "Stretch goals:\n",
        "\n",
        "1. Refactor your code into functions so it's easy to rerun with arbitrary variables\n",
        "2. Apply hypothesis testing to your personal project data (for the purposes of this notebook you can type a summary of the hypothesis you formed and tested)"
      ]
    },
    {
      "cell_type": "code",
      "metadata": {
        "id": "bamLhz7LfSjp",
        "colab_type": "code",
        "colab": {}
      },
      "source": [
        "import pandas as pd\n",
        "import pprint as pp\n",
        "from pandas.util.testing import assert_frame_equal\n",
        "from scipy.stats import ttest_1samp\n",
        "import matplotlib.pyplot as plt\n",
        "import numpy as np\n",
        "import seaborn as sns\n",
        "import warnings\n",
        "\n",
        "\n",
        "warnings.filterwarnings('ignore')\n",
        "pd.set_option('display.max_rows', 500)\n",
        "pd.set_option('display.max_columns', 500)\n",
        "pd.set_option('display.width', 1000)\n",
        "plt.style.use('seaborn-white')\n",
        "pd.set_option('precision', 0)\n",
        "\n",
        "url = 'https://archive.ics.uci.edu/ml/machine-learning-databases/voting-records/house-votes-84.data'\n",
        "\n",
        "df = pd.read_csv(url)\n",
        "\n",
        "df.head(1)\n",
        "\n",
        "cols = ['Class Name: 2 (democrat, republican)',\n",
        "        'handicapped-infants: 2 (y,n)',\n",
        "        'water-project-cost-sharing: 2 (y,n)',\n",
        "        'adoption-of-the-budget-resolution: 2 (y,n)',\n",
        "        'physician-fee-freeze: 2 (y,n)',\n",
        "        'el-salvador-aid: 2 (y,n)',\n",
        "        'religious-groups-in-schools: 2 (y,n)',\n",
        "        'anti-satellite-test-ban: 2 (y,n)',\n",
        "        'aid-to-nicaraguan-contras: 2 (y,n)',\n",
        "        'mx-missile: 2 (y,n)',\n",
        "        'immigration: 2 (y,n)',\n",
        "        'synfuels-corporation-cutback: 2 (y,n)',\n",
        "        'education-spending: 2 (y,n)',\n",
        "        'superfund-right-to-sue: 2 (y,n)',\n",
        "        'crime: 2 (y,n)',\n",
        "        'duty-free-exports: 2 (y,n)',\n",
        "        'export-administration-act-south-africa: 2 (y,n)']\n",
        "\n",
        "df.columns = cols\n",
        "df.rename(columns = lambda x: x.replace(': 2 (y,n)','')[0:],inplace = True)\n",
        "df.rename(columns = lambda x: x.replace('Class Name: 2 (democrat, republican)',\n",
        "                                        'Political Party')[0:],inplace = True)\n",
        "df.columns = map(str.title, df.columns)\n",
        "\n",
        "#to call column list in future cells as needed.\n",
        "cols = df.columns.get_values().tolist()\n",
        "# df.head(1)\n",
        "\n",
        "\n",
        "\n",
        "\n"
      ],
      "execution_count": 0,
      "outputs": []
    },
    {
      "cell_type": "code",
      "metadata": {
        "id": "RIEks1JgjqGh",
        "colab_type": "code",
        "outputId": "e95ae37b-4cc6-40e4-ae42-136d11742a11",
        "colab": {
          "base_uri": "https://localhost:8080/",
          "height": 411
        }
      },
      "source": [
        "print('Head of 1980s congressional voting data:')\n",
        "print('\\n')\n",
        "print(df.head(5))\n",
        "print('\\n')\n",
        "print('\\n')\n",
        "print('Tail of 1980s congressional voting data:')\n",
        "print('\\n')\n",
        "print(df.tail(5))\n",
        "\n",
        "\n"
      ],
      "execution_count": 0,
      "outputs": [
        {
          "output_type": "stream",
          "text": [
            "Head of 1980s congressional voting data:\n",
            "\n",
            "\n",
            "  Political Party Handicapped-Infants Water-Project-Cost-Sharing Adoption-Of-The-Budget-Resolution Physician-Fee-Freeze El-Salvador-Aid Religious-Groups-In-Schools Anti-Satellite-Test-Ban Aid-To-Nicaraguan-Contras Mx-Missile Immigration Synfuels-Corporation-Cutback Education-Spending Superfund-Right-To-Sue Crime Duty-Free-Exports Export-Administration-Act-South-Africa\n",
            "0      republican                   n                          y                                 n                    y               y                           y                       n                         n          n           n                            n                  y                      y     y                 n                                      ?\n",
            "1        democrat                   ?                          y                                 y                    ?               y                           y                       n                         n          n           n                            y                  n                      y     y                 n                                      n\n",
            "2        democrat                   n                          y                                 y                    n               ?                           y                       n                         n          n           n                            y                  n                      y     n                 n                                      y\n",
            "3        democrat                   y                          y                                 y                    n               y                           y                       n                         n          n           n                            y                  ?                      y     y                 y                                      y\n",
            "4        democrat                   n                          y                                 y                    n               y                           y                       n                         n          n           n                            n                  n                      y     y                 y                                      y\n",
            "\n",
            "\n",
            "\n",
            "\n",
            "Tail of 1980s congressional voting data:\n",
            "\n",
            "\n",
            "    Political Party Handicapped-Infants Water-Project-Cost-Sharing Adoption-Of-The-Budget-Resolution Physician-Fee-Freeze El-Salvador-Aid Religious-Groups-In-Schools Anti-Satellite-Test-Ban Aid-To-Nicaraguan-Contras Mx-Missile Immigration Synfuels-Corporation-Cutback Education-Spending Superfund-Right-To-Sue Crime Duty-Free-Exports Export-Administration-Act-South-Africa\n",
            "429      republican                   n                          n                                 y                    y               y                           y                       n                         n          y           y                            n                  y                      y     y                 n                                      y\n",
            "430        democrat                   n                          n                                 y                    n               n                           n                       y                         y          y           y                            n                  n                      n     n                 n                                      y\n",
            "431      republican                   n                          ?                                 n                    y               y                           y                       n                         n          n           n                            y                  y                      y     y                 n                                      y\n",
            "432      republican                   n                          n                                 n                    y               y                           y                       ?                         ?          ?           ?                            n                  y                      y     y                 n                                      y\n",
            "433      republican                   n                          y                                 n                    y               y                           y                       n                         n          n           y                            n                  y                      y     y                 ?                                      n\n"
          ],
          "name": "stdout"
        }
      ]
    },
    {
      "cell_type": "code",
      "metadata": {
        "id": "QHq3Z7hDorL_",
        "colab_type": "code",
        "outputId": "c4c23fa3-9fe9-4242-e505-d78f8e7e14df",
        "colab": {
          "base_uri": "https://localhost:8080/",
          "height": 323
        }
      },
      "source": [
        "#Checking for null values\n",
        "df.isnull().sum()"
      ],
      "execution_count": 0,
      "outputs": [
        {
          "output_type": "execute_result",
          "data": {
            "text/plain": [
              "Political Party                           0\n",
              "Handicapped-Infants                       0\n",
              "Water-Project-Cost-Sharing                0\n",
              "Adoption-Of-The-Budget-Resolution         0\n",
              "Physician-Fee-Freeze                      0\n",
              "El-Salvador-Aid                           0\n",
              "Religious-Groups-In-Schools               0\n",
              "Anti-Satellite-Test-Ban                   0\n",
              "Aid-To-Nicaraguan-Contras                 0\n",
              "Mx-Missile                                0\n",
              "Immigration                               0\n",
              "Synfuels-Corporation-Cutback              0\n",
              "Education-Spending                        0\n",
              "Superfund-Right-To-Sue                    0\n",
              "Crime                                     0\n",
              "Duty-Free-Exports                         0\n",
              "Export-Administration-Act-South-Africa    0\n",
              "dtype: int64"
            ]
          },
          "metadata": {
            "tags": []
          },
          "execution_count": 170
        }
      ]
    },
    {
      "cell_type": "code",
      "metadata": {
        "id": "O7KODk7ppHB5",
        "colab_type": "code",
        "outputId": "8ae23e4b-6d38-49ce-837f-06e2c2773df3",
        "colab": {
          "base_uri": "https://localhost:8080/",
          "height": 306
        }
      },
      "source": [
        "#Looking at all Unique Values in each df series\n",
        "[df[str(i)].unique() for i in cols]"
      ],
      "execution_count": 0,
      "outputs": [
        {
          "output_type": "execute_result",
          "data": {
            "text/plain": [
              "[array(['republican', 'democrat'], dtype=object),\n",
              " array(['n', '?', 'y'], dtype=object),\n",
              " array(['y', 'n', '?'], dtype=object),\n",
              " array(['n', 'y', '?'], dtype=object),\n",
              " array(['y', '?', 'n'], dtype=object),\n",
              " array(['y', '?', 'n'], dtype=object),\n",
              " array(['y', 'n', '?'], dtype=object),\n",
              " array(['n', 'y', '?'], dtype=object),\n",
              " array(['n', 'y', '?'], dtype=object),\n",
              " array(['n', 'y', '?'], dtype=object),\n",
              " array(['n', 'y', '?'], dtype=object),\n",
              " array(['n', 'y', '?'], dtype=object),\n",
              " array(['y', 'n', '?'], dtype=object),\n",
              " array(['y', '?', 'n'], dtype=object),\n",
              " array(['y', 'n', '?'], dtype=object),\n",
              " array(['n', 'y', '?'], dtype=object),\n",
              " array(['?', 'n', 'y'], dtype=object)]"
            ]
          },
          "metadata": {
            "tags": []
          },
          "execution_count": 171
        }
      ]
    },
    {
      "cell_type": "code",
      "metadata": {
        "id": "rcoQqMGNr6Y6",
        "colab_type": "code",
        "colab": {}
      },
      "source": [
        "df.replace({'?':np.NaN,'y': 1,'n':0},inplace=True)"
      ],
      "execution_count": 0,
      "outputs": []
    },
    {
      "cell_type": "code",
      "metadata": {
        "id": "UzutqUSpjqJ3",
        "colab_type": "code",
        "outputId": "4c50c878-8f22-4d24-99ae-79d582a37a59",
        "colab": {
          "base_uri": "https://localhost:8080/",
          "height": 323
        }
      },
      "source": [
        "#Second check for null values - NaN will be dropped in statistical analysis\n",
        "df.isnull().sum()"
      ],
      "execution_count": 0,
      "outputs": [
        {
          "output_type": "execute_result",
          "data": {
            "text/plain": [
              "Political Party                             0\n",
              "Handicapped-Infants                        12\n",
              "Water-Project-Cost-Sharing                 48\n",
              "Adoption-Of-The-Budget-Resolution          11\n",
              "Physician-Fee-Freeze                       11\n",
              "El-Salvador-Aid                            15\n",
              "Religious-Groups-In-Schools                11\n",
              "Anti-Satellite-Test-Ban                    14\n",
              "Aid-To-Nicaraguan-Contras                  15\n",
              "Mx-Missile                                 22\n",
              "Immigration                                 7\n",
              "Synfuels-Corporation-Cutback               20\n",
              "Education-Spending                         31\n",
              "Superfund-Right-To-Sue                     25\n",
              "Crime                                      17\n",
              "Duty-Free-Exports                          28\n",
              "Export-Administration-Act-South-Africa    104\n",
              "dtype: int64"
            ]
          },
          "metadata": {
            "tags": []
          },
          "execution_count": 173
        }
      ]
    },
    {
      "cell_type": "code",
      "metadata": {
        "id": "2GMkgirMvgq9",
        "colab_type": "code",
        "colab": {}
      },
      "source": [
        "#Separating party lines in DataFrames\n",
        "\n",
        "rep = df[df['Political Party'] == 'republican']"
      ],
      "execution_count": 0,
      "outputs": []
    },
    {
      "cell_type": "code",
      "metadata": {
        "id": "iqFTGVZjvgzP",
        "colab_type": "code",
        "colab": {}
      },
      "source": [
        "dem = df[df['Political Party'] == 'democrat']"
      ],
      "execution_count": 0,
      "outputs": []
    },
    {
      "cell_type": "code",
      "metadata": {
        "id": "UVVIC32Avg1-",
        "colab_type": "code",
        "outputId": "29fcb926-199f-4b37-8063-9f33eab8be05",
        "colab": {
          "base_uri": "https://localhost:8080/",
          "height": 85
        }
      },
      "source": [
        "df_assert = rep + dem\n",
        "\n",
        "if df.shape == df_assert.shape:\n",
        "  print(df['Political Party'].value_counts())\n",
        "  print('Combined DataFrames are Equal to Original DataFrame')\n",
        "else:\n",
        "  print('DataFrames not Equal')\n"
      ],
      "execution_count": 0,
      "outputs": [
        {
          "output_type": "stream",
          "text": [
            "democrat      267\n",
            "republican    167\n",
            "Name: Political Party, dtype: int64\n",
            "Combined DataFrames are Equal to Original DataFrame\n"
          ],
          "name": "stdout"
        }
      ]
    },
    {
      "cell_type": "markdown",
      "metadata": {
        "id": "LeEIjCzE26se",
        "colab_type": "text"
      },
      "source": [
        "# Political Party T-test\n"
      ]
    },
    {
      "cell_type": "code",
      "metadata": {
        "id": "1RqYBAl4vg43",
        "colab_type": "code",
        "outputId": "125f2919-1f21-481c-f83b-cf04232e74a5",
        "colab": {
          "base_uri": "https://localhost:8080/",
          "height": 34
        }
      },
      "source": [
        "rep['Handicapped-Infants'].mean()"
      ],
      "execution_count": 0,
      "outputs": [
        {
          "output_type": "execute_result",
          "data": {
            "text/plain": [
              "0.18902439024390244"
            ]
          },
          "metadata": {
            "tags": []
          },
          "execution_count": 183
        }
      ]
    },
    {
      "cell_type": "code",
      "metadata": {
        "id": "DSpEbtycvg7W",
        "colab_type": "code",
        "colab": {}
      },
      "source": [
        ""
      ],
      "execution_count": 0,
      "outputs": []
    },
    {
      "cell_type": "code",
      "metadata": {
        "id": "cxGRPQSovg-D",
        "colab_type": "code",
        "colab": {}
      },
      "source": [
        ""
      ],
      "execution_count": 0,
      "outputs": []
    },
    {
      "cell_type": "code",
      "metadata": {
        "id": "FfO8Qda5vhAl",
        "colab_type": "code",
        "colab": {}
      },
      "source": [
        ""
      ],
      "execution_count": 0,
      "outputs": []
    },
    {
      "cell_type": "code",
      "metadata": {
        "id": "Eb1-ka9mvhDY",
        "colab_type": "code",
        "colab": {}
      },
      "source": [
        ""
      ],
      "execution_count": 0,
      "outputs": []
    },
    {
      "cell_type": "code",
      "metadata": {
        "id": "9lhDwQxbvhGW",
        "colab_type": "code",
        "colab": {}
      },
      "source": [
        ""
      ],
      "execution_count": 0,
      "outputs": []
    },
    {
      "cell_type": "code",
      "metadata": {
        "id": "_tv_UzHdvhJR",
        "colab_type": "code",
        "colab": {}
      },
      "source": [
        ""
      ],
      "execution_count": 0,
      "outputs": []
    }
  ]
}